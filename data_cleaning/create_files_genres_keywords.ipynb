{
 "cells": [
  {
   "cell_type": "code",
   "execution_count": 1,
   "metadata": {},
   "outputs": [],
   "source": [
    "import itertools\n",
    "import pandas as pd\n",
    "import numpy as np\n",
    "import json"
   ]
  },
  {
   "cell_type": "code",
   "execution_count": 2,
   "metadata": {},
   "outputs": [],
   "source": [
    "movie_df = pd.read_csv(\"datasets/cleaned_full_df.csv\")\n",
    "movie_df['keywords'] = movie_df['keywords'].apply(lambda x : eval(x))\n",
    "movie_df['genres'] = movie_df['genres'].apply(lambda x : eval(x))\n",
    "\n",
    "merge_all_genres = movie_df['genres'].values.tolist()\n",
    "merge_all_keywords = movie_df['keywords'].values.tolist()\n"
   ]
  },
  {
   "cell_type": "code",
   "execution_count": 4,
   "metadata": {},
   "outputs": [],
   "source": [
    "flatten_keywords_list = list(itertools.chain(*merge_all_keywords))\n",
    "flatten_genre_list = list(itertools.chain(*merge_all_genres))\n",
    "\n",
    "flatten_unique_genre_list = list(set(flatten_genre_list))\n",
    "flatten_unique_keywords_list = list(set(flatten_keywords_list))\n",
    "\n",
    "###Lower all words\n",
    "flatten_genre_list_lower = [word.lower() for word in flatten_unique_genre_list]\n",
    "flatten_keyword_list_lower = [word.lower() for word in flatten_unique_keywords_list]"
   ]
  },
  {
   "cell_type": "code",
   "execution_count": null,
   "metadata": {},
   "outputs": [],
   "source": [
    "out_file = open(\"datasets/genres.json\", \"w\")\n",
    "json.dump(list(flatten_genre_list_lower), fp=out_file)\n",
    "\n",
    "out_file = open(\"datasets/keywords.json\", \"w\")\n",
    "json.dump(list(flatten_unique_keywords_list), fp=out_file)"
   ]
  }
 ],
 "metadata": {
  "kernelspec": {
   "display_name": "Python 3.9.4 ('venv': venv)",
   "language": "python",
   "name": "python3"
  },
  "language_info": {
   "codemirror_mode": {
    "name": "ipython",
    "version": 3
   },
   "file_extension": ".py",
   "mimetype": "text/x-python",
   "name": "python",
   "nbconvert_exporter": "python",
   "pygments_lexer": "ipython3",
   "version": "3.9.4"
  },
  "orig_nbformat": 4,
  "vscode": {
   "interpreter": {
    "hash": "73b026da19a0da419c824e85177198fbe21eb2826643e1d52adc71991c77a096"
   }
  }
 },
 "nbformat": 4,
 "nbformat_minor": 2
}
