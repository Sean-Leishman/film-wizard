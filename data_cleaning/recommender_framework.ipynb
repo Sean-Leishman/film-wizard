{
 "cells": [
  {
   "cell_type": "code",
   "execution_count": 1,
   "metadata": {},
   "outputs": [],
   "source": [
    "import pandas as pd\n",
    "import numpy as np\n",
    "from rake_nltk import Rake\n",
    "from nltk.corpus import stopwords\n",
    "from nltk.tokenize import word_tokenize\n",
    "from rank_bm25 import BM25Okapi\n",
    "import string"
   ]
  },
  {
   "cell_type": "markdown",
   "metadata": {},
   "source": [
    "#### This is the recommender part"
   ]
  },
  {
   "cell_type": "code",
   "execution_count": 2,
   "metadata": {},
   "outputs": [],
   "source": [
    "movie_metadata = pd.read_csv(\"datasets/final_comparison_df.csv\")"
   ]
  },
  {
   "cell_type": "code",
   "execution_count": 3,
   "metadata": {},
   "outputs": [],
   "source": [
    "def clean_words(text:str):\n",
    "    remove_all_punc_text = text.translate(str.maketrans(\"\", \"\", string.punctuation))\n",
    "    stop_words = set(stopwords.words('english'))\n",
    "    list_of_text = remove_all_punc_text.split(\" \")\n",
    "\n",
    "    if (len(list_of_text) == 0):\n",
    "        return []\n",
    "\n",
    "    filtered_sentence = []\n",
    "\n",
    "    for w in list_of_text:\n",
    "        lower_text = w.lower()\n",
    "        if lower_text not in stop_words:\n",
    "            filtered_sentence.append(lower_text)\n",
    "\n",
    "    return \" \".join(filtered_sentence)"
   ]
  },
  {
   "cell_type": "code",
   "execution_count": 4,
   "metadata": {},
   "outputs": [
    {
     "data": {
      "text/plain": [
       "0"
      ]
     },
     "execution_count": 4,
     "metadata": {},
     "output_type": "execute_result"
    }
   ],
   "source": [
    "movie_metadata['title'].duplicated().sum()"
   ]
  },
  {
   "cell_type": "code",
   "execution_count": 5,
   "metadata": {},
   "outputs": [],
   "source": [
    "corpus = movie_metadata['bag_of_words'].to_list()\n",
    "tokenized_corpus = [doc.split(\" \") for doc in corpus]\n",
    "bm25 = BM25Okapi(tokenized_corpus)"
   ]
  },
  {
   "cell_type": "code",
   "execution_count": 6,
   "metadata": {},
   "outputs": [
    {
     "data": {
      "text/plain": [
       "['Dragonslayer',\n",
       " \"Alice's Wonderland\",\n",
       " 'Princess and the Pony',\n",
       " 'How to Hook Up Your Home Theater',\n",
       " 'Who Killed Cock Robin?',\n",
       " 'Fantasia',\n",
       " 'Fun & Fancy Free',\n",
       " 'Babes in the Woods',\n",
       " \"Mickey's Orphans\",\n",
       " 'Enchanted']"
      ]
     },
     "execution_count": 6,
     "metadata": {},
     "output_type": "execute_result"
    }
   ],
   "source": [
    "##Query Test:\n",
    "\n",
    "query = \"princess disney.\"\n",
    "cleaned_query = clean_words(query)\n",
    "tokenized_query = cleaned_query.split(\" \")\n",
    "bm25_top_result = bm25.get_top_n(tokenized_query, corpus, n=10)\n",
    "\n",
    "#Match to video\n",
    "result_of_show = []\n",
    "\n",
    "for result in bm25_top_result:\n",
    "    index_of_show = movie_metadata.index[movie_metadata['bag_of_words'] == result].to_list()[0]\n",
    "    result_of_show.append(movie_metadata.iloc[index_of_show]['title'])\n",
    "result_of_show"
   ]
  },
  {
   "cell_type": "code",
   "execution_count": 7,
   "metadata": {},
   "outputs": [
    {
     "data": {
      "text/html": [
       "<div>\n",
       "<style scoped>\n",
       "    .dataframe tbody tr th:only-of-type {\n",
       "        vertical-align: middle;\n",
       "    }\n",
       "\n",
       "    .dataframe tbody tr th {\n",
       "        vertical-align: top;\n",
       "    }\n",
       "\n",
       "    .dataframe thead th {\n",
       "        text-align: right;\n",
       "    }\n",
       "</style>\n",
       "<table border=\"1\" class=\"dataframe\">\n",
       "  <thead>\n",
       "    <tr style=\"text-align: right;\">\n",
       "      <th></th>\n",
       "      <th>Unnamed: 0</th>\n",
       "      <th>title</th>\n",
       "      <th>vote_average</th>\n",
       "      <th>release_date</th>\n",
       "      <th>popularity</th>\n",
       "      <th>bag_of_words</th>\n",
       "      <th>imdbId</th>\n",
       "      <th>tmdbId</th>\n",
       "    </tr>\n",
       "  </thead>\n",
       "  <tbody>\n",
       "    <tr>\n",
       "      <th>4404</th>\n",
       "      <td>6018</td>\n",
       "      <td>Alice's Wonderland</td>\n",
       "      <td>6.5</td>\n",
       "      <td>1923-01-01</td>\n",
       "      <td>1.138122</td>\n",
       "      <td>disney animation silent film room wonderland i...</td>\n",
       "      <td>3593046</td>\n",
       "      <td>360203.0</td>\n",
       "    </tr>\n",
       "  </tbody>\n",
       "</table>\n",
       "</div>"
      ],
      "text/plain": [
       "      Unnamed: 0               title  vote_average release_date  popularity  \\\n",
       "4404        6018  Alice's Wonderland           6.5   1923-01-01    1.138122   \n",
       "\n",
       "                                           bag_of_words   imdbId    tmdbId  \n",
       "4404  disney animation silent film room wonderland i...  3593046  360203.0  "
      ]
     },
     "execution_count": 7,
     "metadata": {},
     "output_type": "execute_result"
    }
   ],
   "source": [
    "movie_metadata[movie_metadata['title'] == \"Alice's Wonderland\"]"
   ]
  }
 ],
 "metadata": {
  "kernelspec": {
   "display_name": "Python 3.9.4 ('venv': venv)",
   "language": "python",
   "name": "python3"
  },
  "language_info": {
   "codemirror_mode": {
    "name": "ipython",
    "version": 3
   },
   "file_extension": ".py",
   "mimetype": "text/x-python",
   "name": "python",
   "nbconvert_exporter": "python",
   "pygments_lexer": "ipython3",
   "version": "3.9.4"
  },
  "orig_nbformat": 4,
  "vscode": {
   "interpreter": {
    "hash": "73b026da19a0da419c824e85177198fbe21eb2826643e1d52adc71991c77a096"
   }
  }
 },
 "nbformat": 4,
 "nbformat_minor": 2
}
