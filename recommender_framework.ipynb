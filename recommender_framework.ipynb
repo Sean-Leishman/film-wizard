{
 "cells": [
  {
   "cell_type": "code",
   "execution_count": 2,
   "metadata": {},
   "outputs": [],
   "source": [
    "import pandas as pd\n",
    "import numpy as np\n",
    "from rake_nltk import Rake\n",
    "from nltk.corpus import stopwords\n",
    "from nltk.tokenize import word_tokenize\n",
    "from rank_bm25 import BM25Okapi\n",
    "import string"
   ]
  },
  {
   "cell_type": "markdown",
   "metadata": {},
   "source": [
    "#### This is the recommender part"
   ]
  },
  {
   "cell_type": "code",
   "execution_count": 3,
   "metadata": {},
   "outputs": [],
   "source": [
    "movie_metadata = pd.read_csv(\"source/final_comparison_df.csv\")"
   ]
  },
  {
   "cell_type": "code",
   "execution_count": 4,
   "metadata": {},
   "outputs": [],
   "source": [
    "def clean_words(text:str):\n",
    "    remove_all_punc_text = text.translate(str.maketrans(\"\", \"\", string.punctuation))\n",
    "    stop_words = set(stopwords.words('english'))\n",
    "    list_of_text = remove_all_punc_text.split(\" \")\n",
    "\n",
    "    if (len(list_of_text) == 0):\n",
    "        return []\n",
    "\n",
    "    filtered_sentence = []\n",
    "\n",
    "    for w in list_of_text:\n",
    "        lower_text = w.lower()\n",
    "        if lower_text not in stop_words:\n",
    "            filtered_sentence.append(lower_text)\n",
    "\n",
    "    return \" \".join(filtered_sentence)"
   ]
  },
  {
   "cell_type": "code",
   "execution_count": 5,
   "metadata": {},
   "outputs": [
    {
     "data": {
      "text/plain": [
       "151"
      ]
     },
     "execution_count": 5,
     "metadata": {},
     "output_type": "execute_result"
    }
   ],
   "source": [
    "movie_metadata['title'].duplicated().sum()"
   ]
  },
  {
   "cell_type": "code",
   "execution_count": 6,
   "metadata": {},
   "outputs": [],
   "source": [
    "corpus = movie_metadata['bag_of_words'].to_list()\n",
    "tokenized_corpus = [doc.split(\" \") for doc in corpus]\n",
    "bm25 = BM25Okapi(tokenized_corpus)"
   ]
  },
  {
   "cell_type": "code",
   "execution_count": 21,
   "metadata": {},
   "outputs": [
    {
     "data": {
      "text/plain": [
       "Unnamed: 0                                                   1206\n",
       "title                                                Dragonslayer\n",
       "vote_average                                                  6.5\n",
       "release_date                                           1981-06-26\n",
       "popularity                                               3.383201\n",
       "bag_of_words    magic sorcerer egg possible film order sorcere...\n",
       "imdb_id                                                 tt0082288\n",
       "tmdbId                                                    47907.0\n",
       "wikipediaUrl    https://en.wikipedia.org/wiki/Dragonslayer_(19...\n",
       "Name: 1206, dtype: object"
      ]
     },
     "execution_count": 21,
     "metadata": {},
     "output_type": "execute_result"
    }
   ],
   "source": [
    "##Query Test:\n",
    "\n",
    "query = \"disney princess.\"\n",
    "cleaned_query = clean_words(query)\n",
    "tokenized_query = cleaned_query.split(\" \")\n",
    "bm25_top_result = bm25.get_top_n(tokenized_query, corpus, n=10)\n",
    "\n",
    "#Match to video\n",
    "result_of_show = []\n",
    "\n",
    "for result in bm25_top_result:\n",
    "    index_of_show = movie_metadata.index[movie_metadata['bag_of_words'] == result].to_list()[0]\n",
    "    result_of_show.append(movie_metadata.iloc[index_of_show])\n",
    "result_of_show[0]"
   ]
  },
  {
   "cell_type": "code",
   "execution_count": 14,
   "metadata": {},
   "outputs": [
    {
     "name": "stdout",
     "output_type": "stream",
     "text": [
      "['https://en.wikipedia.org/wiki/Alice%27s_Wonderland']\n"
     ]
    }
   ],
   "source": [
    "print(movie_metadata[movie_metadata['title'] == \"Alice's Wonderland\"]['wikipediaUrl'].values)"
   ]
  },
  {
   "cell_type": "code",
   "execution_count": 20,
   "metadata": {},
   "outputs": [
    {
     "data": {
      "text/plain": [
       "'https://en.wikipedia.org/wiki/Dragonslayer_(1981_film)'"
      ]
     },
     "execution_count": 20,
     "metadata": {},
     "output_type": "execute_result"
    }
   ],
   "source": [
    "result_of_show[0].wikipediaUrl"
   ]
  },
  {
   "cell_type": "code",
   "execution_count": null,
   "metadata": {},
   "outputs": [],
   "source": []
  }
 ],
 "metadata": {
  "kernelspec": {
   "display_name": "Python [conda env:tf3]",
   "language": "python",
   "name": "conda-env-tf3-py"
  },
  "language_info": {
   "codemirror_mode": {
    "name": "ipython",
    "version": 3
   },
   "file_extension": ".py",
   "mimetype": "text/x-python",
   "name": "python",
   "nbconvert_exporter": "python",
   "pygments_lexer": "ipython3",
   "version": "3.10.4"
  },
  "vscode": {
   "interpreter": {
    "hash": "fa9896ad6eaf445dd34d5fa597a2ec5cccaab461ff10198e424fccf58dde1002"
   }
  }
 },
 "nbformat": 4,
 "nbformat_minor": 2
}
