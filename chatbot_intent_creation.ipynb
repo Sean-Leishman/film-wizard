{
 "cells": [
  {
   "cell_type": "markdown",
   "metadata": {},
   "source": [
    "### Building intent"
   ]
  },
  {
   "cell_type": "code",
   "execution_count": 5,
   "metadata": {},
   "outputs": [],
   "source": [
    "import re\n",
    "from nltk.corpus import wordnet"
   ]
  },
  {
   "cell_type": "code",
   "execution_count": 6,
   "metadata": {},
   "outputs": [],
   "source": [
    "list_words=['hello','reset','recommend']\n",
    "list_syn={}\n",
    "for word in list_words:\n",
    "    synonyms=[]\n",
    "    for syn in wordnet.synsets(word):\n",
    "        for lem in syn.lemmas():\n",
    "            # Remove any special characters from synonym strings\n",
    "            lem_name = re.sub('[^a-zA-Z0-9 \\n\\.]', ' ', lem.name())\n",
    "            synonyms.append(lem_name)\n",
    "    list_syn[word]=set(synonyms)"
   ]
  },
  {
   "cell_type": "code",
   "execution_count": 8,
   "metadata": {},
   "outputs": [
    {
     "data": {
      "text/plain": [
       "{'hello': {'hello', 'hi', 'how do you do', 'howdy', 'hullo'},\n",
       " 'reset': {'readjust', 'reset'},\n",
       " 'recommend': {'advocate', 'commend', 'recommend', 'urge'}}"
      ]
     },
     "execution_count": 8,
     "metadata": {},
     "output_type": "execute_result"
    }
   ],
   "source": [
    "list_syn"
   ]
  },
  {
   "cell_type": "code",
   "execution_count": 9,
   "metadata": {},
   "outputs": [
    {
     "name": "stdout",
     "output_type": "stream",
     "text": [
      "{'greet': re.compile('.*\\\\bhowdy\\\\b.*|.*\\\\bhullo\\\\b.*|.*\\\\bhow do you do\\\\b.*|.*\\\\bhello\\\\b.*|.*\\\\bhi\\\\b.*'), 'reset': re.compile('.*\\\\breset\\\\b.*|.*\\\\breadjust\\\\b.*'), 'recommend': re.compile('.*\\\\breset\\\\b.*|.*\\\\breadjust\\\\b.*')}\n"
     ]
    }
   ],
   "source": [
    "keywords={}\n",
    "keywords_dict={}\n",
    "# Defining a new key in the keywords dictionary\n",
    "keywords['greet']=[]\n",
    "# Populating the values in the keywords dictionary with synonyms of keywords formatted with RegEx metacharacters \n",
    "for synonym in list(list_syn['hello']):\n",
    "    keywords['greet'].append('.*\\\\b'+synonym+'\\\\b.*')\n",
    "\n",
    "# Defining a new key in the keywords dictionary\n",
    "keywords['reset']=[]\n",
    "# Populating the values in the keywords dictionary with synonyms of keywords formatted with RegEx metacharacters \n",
    "for synonym in list(list_syn['reset']):\n",
    "    keywords['reset'].append('.*\\\\b'+synonym+'\\\\b.*')\n",
    "\n",
    "keywords['recommend']=[]\n",
    "# Populating the values in the keywords dictionary with synonyms of keywords formatted with RegEx metacharacters \n",
    "for synonym in list(list_syn['reset']):\n",
    "    keywords['recommend'].append('.*\\\\b'+synonym+'\\\\b.*')\n",
    "\n",
    "for intent, keys in keywords.items():\n",
    "    # Joining the values in the keywords dictionary with the OR (|) operator updating them in keywords_dict dictionary\n",
    "    keywords_dict[intent]=re.compile('|'.join(keys))\n",
    "\n"
   ]
  },
  {
   "cell_type": "code",
   "execution_count": 1,
   "metadata": {},
   "outputs": [
    {
     "name": "stderr",
     "output_type": "stream",
     "text": [
      "d:\\Desktop\\CS425-project\\venv\\lib\\site-packages\\tqdm\\auto.py:22: TqdmWarning: IProgress not found. Please update jupyter and ipywidgets. See https://ipywidgets.readthedocs.io/en/stable/user_install.html\n",
      "  from .autonotebook import tqdm as notebook_tqdm\n"
     ]
    },
    {
     "name": "stdout",
     "output_type": "stream",
     "text": [
      "{'prompt_genre': ['reply_generic_response', 'prompt_shows']}\n",
      "tracker val 1\n",
      "response reply_generic_response\n",
      "['Thank you for the reply!']\n",
      "response prompt_shows\n",
      "['Thank you for the reply!', 'What shows have you watched recently?']\n"
     ]
    },
    {
     "data": {
      "text/plain": [
       "['Thank you for the reply!', 'What shows have you watched recently?']"
      ]
     },
     "execution_count": 1,
     "metadata": {},
     "output_type": "execute_result"
    }
   ],
   "source": [
    "import chatbot_class as cs\n",
    "\n",
    "chatbot_frame = cs.MovieRecommender(extracted_keywords=[])\n",
    "chatbot_frame.get_input_respond_message_for_movie_recommender('i like horror stuff')"
   ]
  },
  {
   "cell_type": "code",
   "execution_count": 2,
   "metadata": {},
   "outputs": [
    {
     "name": "stdout",
     "output_type": "stream",
     "text": [
      "{'prompt_shows': ['reply_generic_response', 'prompt_actor']}\n"
     ]
    },
    {
     "name": "stderr",
     "output_type": "stream",
     "text": [
      "d:\\Desktop\\CS425-project\\venv\\lib\\site-packages\\huggingface_hub\\file_download.py:588: FutureWarning: `cached_download` is the legacy way to download files from the HF hub, please consider upgrading to `hf_hub_download`\n",
      "  warnings.warn(\n"
     ]
    },
    {
     "name": "stdout",
     "output_type": "stream",
     "text": [
      "2022-11-03 20:21:22,370 loading file C:\\Users\\User\\.flair\\models\\ner-english-large\\07301f59bb8cb113803be316267f06ddf9243cdbba92a4c8067ef92442d2c574.554244d3476d97501a766a98078421817b14654496b86f2f7bd139dc502a4f29\n",
      "2022-11-03 20:21:57,282 SequenceTagger predicts: Dictionary with 20 tags: <unk>, O, S-ORG, S-MISC, B-PER, E-PER, S-LOC, B-ORG, E-ORG, I-PER, S-PER, B-MISC, I-MISC, E-MISC, I-ORG, B-LOC, E-LOC, I-LOC, <START>, <STOP>\n",
      "['darkj']\n",
      "tracker val 2\n",
      "response reply_generic_response\n"
     ]
    },
    {
     "ename": "TypeError",
     "evalue": "sequence item 4: expected str instance, list found",
     "output_type": "error",
     "traceback": [
      "\u001b[1;31m---------------------------------------------------------------------------\u001b[0m",
      "\u001b[1;31mTypeError\u001b[0m                                 Traceback (most recent call last)",
      "Cell \u001b[1;32mIn [2], line 1\u001b[0m\n\u001b[1;32m----> 1\u001b[0m chatbot_frame\u001b[39m.\u001b[39;49mget_input_respond_message_for_movie_recommender(\u001b[39m'\u001b[39;49m\u001b[39mdarkj knight\u001b[39;49m\u001b[39m'\u001b[39;49m)\n",
      "File \u001b[1;32md:\\Desktop\\CS425-project\\chatbot_class.py:147\u001b[0m, in \u001b[0;36mMovieRecommender.get_input_respond_message_for_movie_recommender\u001b[1;34m(self, input)\u001b[0m\n\u001b[0;32m    144\u001b[0m \u001b[39mfor\u001b[39;00m response_from_prompt \u001b[39min\u001b[39;00m response_prompt_response[prompt_type]:\n\u001b[0;32m    145\u001b[0m     \u001b[39mprint\u001b[39m(\u001b[39m'\u001b[39m\u001b[39mresponse\u001b[39m\u001b[39m'\u001b[39m, response_from_prompt)\n\u001b[0;32m    146\u001b[0m     responses_result\u001b[39m.\u001b[39mappend(\n\u001b[1;32m--> 147\u001b[0m         \u001b[39mself\u001b[39;49m\u001b[39m.\u001b[39;49mresponse_generator_for_recommender(response_from_prompt))\n\u001b[0;32m    148\u001b[0m     \u001b[39mprint\u001b[39m(responses_result)\n\u001b[0;32m    150\u001b[0m \u001b[39mreturn\u001b[39;00m responses_result\n",
      "File \u001b[1;32md:\\Desktop\\CS425-project\\chatbot_class.py:82\u001b[0m, in \u001b[0;36mMovieRecommender.response_generator_for_recommender\u001b[1;34m(self, response_prompt)\u001b[0m\n\u001b[0;32m     64\u001b[0m \u001b[39mdef\u001b[39;00m \u001b[39mresponse_generator_for_recommender\u001b[39m(\u001b[39mself\u001b[39m, response_prompt):\n\u001b[0;32m     65\u001b[0m     \u001b[39m\"\"\"\u001b[39;00m\n\u001b[0;32m     66\u001b[0m \u001b[39m        If it goes into response generator mode, it will strictly follow this list!\u001b[39;00m\n\u001b[0;32m     67\u001b[0m \u001b[39m    \"\"\"\u001b[39;00m\n\u001b[0;32m     68\u001b[0m     responses \u001b[39m=\u001b[39m {\n\u001b[0;32m     69\u001b[0m         \u001b[39m'\u001b[39m\u001b[39mprompt_greet\u001b[39m\u001b[39m'\u001b[39m: \u001b[39m'\u001b[39m\u001b[39mHello, welcome to our site! Would you like to have a movie recommended?\u001b[39m\u001b[39m'\u001b[39m,\n\u001b[0;32m     70\u001b[0m         \u001b[39m'\u001b[39m\u001b[39mreply_greet\u001b[39m\u001b[39m'\u001b[39m: \u001b[39m\"\u001b[39m\u001b[39mAwesome! Let\u001b[39m\u001b[39m'\u001b[39m\u001b[39ms begin!\u001b[39m\u001b[39m\"\u001b[39m,\n\u001b[0;32m     71\u001b[0m         \u001b[39m'\u001b[39m\u001b[39mreply_generic_response\u001b[39m\u001b[39m'\u001b[39m: \u001b[39m'\u001b[39m\u001b[39mThank you for the reply!\u001b[39m\u001b[39m'\u001b[39m,\n\u001b[0;32m     72\u001b[0m         \u001b[39m'\u001b[39m\u001b[39mprompt_genre\u001b[39m\u001b[39m'\u001b[39m: \u001b[39m'\u001b[39m\u001b[39mWhat genre of shows do you like?\u001b[39m\u001b[39m'\u001b[39m,\n\u001b[0;32m     73\u001b[0m         \u001b[39m'\u001b[39m\u001b[39mprompt_shows\u001b[39m\u001b[39m'\u001b[39m: \u001b[39m'\u001b[39m\u001b[39mWhat shows have you watched recently?\u001b[39m\u001b[39m'\u001b[39m,\n\u001b[0;32m     74\u001b[0m         \u001b[39m# Look at the actors/actresses\u001b[39;00m\n\u001b[0;32m     75\u001b[0m         \u001b[39m'\u001b[39m\u001b[39mprompt_actor\u001b[39m\u001b[39m'\u001b[39m: \u001b[39m'\u001b[39m\u001b[39mAre there any actors or actresses that you enjoy?\u001b[39m\u001b[39m'\u001b[39m,\n\u001b[0;32m     76\u001b[0m         \u001b[39m'\u001b[39m\u001b[39mprompt_hate\u001b[39m\u001b[39m'\u001b[39m: \u001b[39m'\u001b[39m\u001b[39mAny shows that you hate?\u001b[39m\u001b[39m'\u001b[39m,\n\u001b[0;32m     77\u001b[0m         \u001b[39m'\u001b[39m\u001b[39mprompt_production_companies\u001b[39m\u001b[39m'\u001b[39m: \u001b[39m'\u001b[39m\u001b[39mAny production companies you like?\u001b[39m\u001b[39m'\u001b[39m,\n\u001b[0;32m     78\u001b[0m         \u001b[39m# Prompt keywords in the dataset\u001b[39;00m\n\u001b[0;32m     79\u001b[0m         \u001b[39m'\u001b[39m\u001b[39mprompt_themes\u001b[39m\u001b[39m'\u001b[39m: \u001b[39m'\u001b[39m\u001b[39mWhat do you look for in a movie?\u001b[39m\u001b[39m'\u001b[39m,\n\u001b[0;32m     80\u001b[0m         \u001b[39m'\u001b[39m\u001b[39mreply_fallback\u001b[39m\u001b[39m'\u001b[39m: \u001b[39m\"\u001b[39m\u001b[39mI don\u001b[39m\u001b[39m'\u001b[39m\u001b[39mt quite understand. Could you clarify that?\u001b[39m\u001b[39m\"\u001b[39m,\n\u001b[0;32m     81\u001b[0m         \u001b[39m'\u001b[39m\u001b[39mreply_searching\u001b[39m\u001b[39m'\u001b[39m: \u001b[39m\"\u001b[39m\u001b[39mThank you! That\u001b[39m\u001b[39m'\u001b[39m\u001b[39ms all the info we need, now we\u001b[39m\u001b[39m'\u001b[39m\u001b[39mre looking for a movie to recommend...\u001b[39m\u001b[39m\"\u001b[39m,\n\u001b[1;32m---> 82\u001b[0m         \u001b[39m'\u001b[39m\u001b[39mreply_list_of_movies\u001b[39m\u001b[39m'\u001b[39m: \u001b[39mself\u001b[39;49m\u001b[39m.\u001b[39;49mrecommend_movies(),\n\u001b[0;32m     83\u001b[0m         \u001b[39m'\u001b[39m\u001b[39mreply_movie_prompt\u001b[39m\u001b[39m'\u001b[39m: \u001b[39m\"\u001b[39m\u001b[39mWhich movie would you like to know more about?\u001b[39m\u001b[39m\"\u001b[39m,\n\u001b[0;32m     84\u001b[0m         \u001b[39m'\u001b[39m\u001b[39mreply_end\u001b[39m\u001b[39m'\u001b[39m: \u001b[39m\"\u001b[39m\u001b[39mThank you for using our chatbot! Type reset to reset the state of the chatbot\u001b[39m\u001b[39m\"\u001b[39m,\n\u001b[0;32m     85\u001b[0m     }\n\u001b[0;32m     87\u001b[0m     \u001b[39mreturn\u001b[39;00m responses[response_prompt]\n",
      "File \u001b[1;32md:\\Desktop\\CS425-project\\chatbot_class.py:55\u001b[0m, in \u001b[0;36mMovieRecommender.recommend_movies\u001b[1;34m(self)\u001b[0m\n\u001b[0;32m     54\u001b[0m \u001b[39mdef\u001b[39;00m \u001b[39mrecommend_movies\u001b[39m(\u001b[39mself\u001b[39m):\n\u001b[1;32m---> 55\u001b[0m     movie_result \u001b[39m=\u001b[39m recommend(\u001b[39mself\u001b[39;49m\u001b[39m.\u001b[39;49mextracted_keywords)\n\u001b[0;32m     57\u001b[0m     response \u001b[39m=\u001b[39m \u001b[39m\"\u001b[39m\u001b[39mThe following movies have been recommended for you: \u001b[39m\u001b[39m\"\u001b[39m\n\u001b[0;32m     59\u001b[0m     \u001b[39mfor\u001b[39;00m movie \u001b[39min\u001b[39;00m movie_result:\n",
      "File \u001b[1;32md:\\Desktop\\CS425-project\\recommender.py:33\u001b[0m, in \u001b[0;36mrecommend\u001b[1;34m(query)\u001b[0m\n\u001b[0;32m     30\u001b[0m bm25 \u001b[39m=\u001b[39m BM25Okapi(tokenized_corpus)\n\u001b[0;32m     32\u001b[0m \u001b[39m#query = \"disney princess.\"\u001b[39;00m\n\u001b[1;32m---> 33\u001b[0m query_joined \u001b[39m=\u001b[39m \u001b[39m\"\u001b[39;49m\u001b[39m \u001b[39;49m\u001b[39m\"\u001b[39;49m\u001b[39m.\u001b[39;49mjoin(query)\n\u001b[0;32m     34\u001b[0m cleaned_query \u001b[39m=\u001b[39m clean_words(query_joined)\n\u001b[0;32m     35\u001b[0m tokenized_query \u001b[39m=\u001b[39m cleaned_query\u001b[39m.\u001b[39msplit(\u001b[39m\"\u001b[39m\u001b[39m \u001b[39m\u001b[39m\"\u001b[39m)\n",
      "\u001b[1;31mTypeError\u001b[0m: sequence item 4: expected str instance, list found"
     ]
    }
   ],
   "source": [
    "chatbot_frame.get_input_respond_message_for_movie_recommender('darkj knight')"
   ]
  }
 ],
 "metadata": {
  "kernelspec": {
   "display_name": "Python 3.9.4 ('venv': venv)",
   "language": "python",
   "name": "python3"
  },
  "language_info": {
   "codemirror_mode": {
    "name": "ipython",
    "version": 3
   },
   "file_extension": ".py",
   "mimetype": "text/x-python",
   "name": "python",
   "nbconvert_exporter": "python",
   "pygments_lexer": "ipython3",
   "version": "3.9.4"
  },
  "orig_nbformat": 4,
  "vscode": {
   "interpreter": {
    "hash": "73b026da19a0da419c824e85177198fbe21eb2826643e1d52adc71991c77a096"
   }
  }
 },
 "nbformat": 4,
 "nbformat_minor": 2
}
