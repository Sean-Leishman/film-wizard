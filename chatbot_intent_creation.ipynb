{
 "cells": [
  {
   "cell_type": "markdown",
   "metadata": {},
   "source": [
    "### Building intent"
   ]
  },
  {
   "cell_type": "code",
   "execution_count": 5,
   "metadata": {},
   "outputs": [],
   "source": [
    "import re\n",
    "from nltk.corpus import wordnet"
   ]
  },
  {
   "cell_type": "code",
   "execution_count": 8,
   "metadata": {},
   "outputs": [],
   "source": [
    "list_words=['hello','reset','recommend', 'no', 'movie', 'quit']\n",
    "list_syn={}\n",
    "for word in list_words:\n",
    "    synonyms=[]\n",
    "    for syn in wordnet.synsets(word):\n",
    "        for lem in syn.lemmas():\n",
    "            # Remove any special characters from synonym strings\n",
    "            lem_name = re.sub('[^a-zA-Z0-9 \\n\\.]', ' ', lem.name())\n",
    "            synonyms.append(lem_name)\n",
    "    list_syn[word]=set(synonyms)"
   ]
  },
  {
   "cell_type": "code",
   "execution_count": 9,
   "metadata": {},
   "outputs": [
    {
     "data": {
      "text/plain": [
       "{'hello': {'hello', 'hi', 'how do you do', 'howdy', 'hullo'},\n",
       " 'reset': {'readjust', 'reset'},\n",
       " 'recommend': {'advocate', 'commend', 'recommend', 'urge'},\n",
       " 'no': {'No', 'atomic number 102', 'no', 'no more', 'nobelium'},\n",
       " 'movie': {'film',\n",
       "  'flick',\n",
       "  'motion picture',\n",
       "  'motion picture show',\n",
       "  'movie',\n",
       "  'moving picture',\n",
       "  'moving picture show',\n",
       "  'pic',\n",
       "  'picture',\n",
       "  'picture show'},\n",
       " 'quit': {'cease',\n",
       "  'chuck up the sponge',\n",
       "  'depart',\n",
       "  'discontinue',\n",
       "  'drop by the wayside',\n",
       "  'drop out',\n",
       "  'fall by the wayside',\n",
       "  'foreswear',\n",
       "  'give up',\n",
       "  'lay off',\n",
       "  'leave office',\n",
       "  'quit',\n",
       "  'relinquish',\n",
       "  'renounce',\n",
       "  'resign',\n",
       "  'step down',\n",
       "  'stop',\n",
       "  'take leave',\n",
       "  'throw in',\n",
       "  'throw in the towel'}}"
      ]
     },
     "execution_count": 9,
     "metadata": {},
     "output_type": "execute_result"
    }
   ],
   "source": [
    "list_syn"
   ]
  },
  {
   "cell_type": "code",
   "execution_count": 9,
   "metadata": {},
   "outputs": [
    {
     "name": "stdout",
     "output_type": "stream",
     "text": [
      "{'greet': re.compile('.*\\\\bhowdy\\\\b.*|.*\\\\bhullo\\\\b.*|.*\\\\bhow do you do\\\\b.*|.*\\\\bhello\\\\b.*|.*\\\\bhi\\\\b.*'), 'reset': re.compile('.*\\\\breset\\\\b.*|.*\\\\breadjust\\\\b.*'), 'recommend': re.compile('.*\\\\breset\\\\b.*|.*\\\\breadjust\\\\b.*')}\n"
     ]
    }
   ],
   "source": [
    "keywords={}\n",
    "keywords_dict={}\n",
    "# Defining a new key in the keywords dictionary\n",
    "keywords['greet']=[]\n",
    "# Populating the values in the keywords dictionary with synonyms of keywords formatted with RegEx metacharacters \n",
    "for synonym in list(list_syn['hello']):\n",
    "    keywords['greet'].append('.*\\\\b'+synonym+'\\\\b.*')\n",
    "\n",
    "# Defining a new key in the keywords dictionary\n",
    "keywords['reset']=[]\n",
    "# Populating the values in the keywords dictionary with synonyms of keywords formatted with RegEx metacharacters \n",
    "for synonym in list(list_syn['reset']):\n",
    "    keywords['reset'].append('.*\\\\b'+synonym+'\\\\b.*')\n",
    "\n",
    "keywords['recommend']=[]\n",
    "# Populating the values in the keywords dictionary with synonyms of keywords formatted with RegEx metacharacters \n",
    "for synonym in list(list_syn['reset']):\n",
    "    keywords['recommend'].append('.*\\\\b'+synonym+'\\\\b.*')\n",
    "\n",
    "for intent, keys in keywords.items():\n",
    "    # Joining the values in the keywords dictionary with the OR (|) operator updating them in keywords_dict dictionary\n",
    "    keywords_dict[intent]=re.compile('|'.join(keys))\n",
    "\n"
   ]
  }
 ],
 "metadata": {
  "kernelspec": {
   "display_name": "Python 3.9.4 ('venv': venv)",
   "language": "python",
   "name": "python3"
  },
  "language_info": {
   "codemirror_mode": {
    "name": "ipython",
    "version": 3
   },
   "file_extension": ".py",
   "mimetype": "text/x-python",
   "name": "python",
   "nbconvert_exporter": "python",
   "pygments_lexer": "ipython3",
   "version": "3.9.4"
  },
  "orig_nbformat": 4,
  "vscode": {
   "interpreter": {
    "hash": "73b026da19a0da419c824e85177198fbe21eb2826643e1d52adc71991c77a096"
   }
  }
 },
 "nbformat": 4,
 "nbformat_minor": 2
}
