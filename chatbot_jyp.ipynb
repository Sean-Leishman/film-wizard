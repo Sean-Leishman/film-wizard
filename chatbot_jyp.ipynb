{
 "cells": [
  {
   "cell_type": "code",
   "execution_count": null,
   "metadata": {},
   "outputs": [],
   "source": [
    "import re\n",
    "from nltk.corpus import wordnet\n",
    "#https://www.kaggle.com/datasets/rounakbanik/the-movies-dataset"
   ]
  },
  {
   "cell_type": "code",
   "execution_count": null,
   "metadata": {},
   "outputs": [],
   "source": []
  },
  {
   "cell_type": "markdown",
   "metadata": {},
   "source": [
    "#### For him to fill out the syn"
   ]
  },
  {
   "cell_type": "code",
   "execution_count": null,
   "metadata": {},
   "outputs": [],
   "source": [
    "list_words=['hello','timings']\n",
    "list_syn={}\n",
    "keywords={}\n",
    "keywords_dict={}"
   ]
  },
  {
   "cell_type": "code",
   "execution_count": null,
   "metadata": {},
   "outputs": [],
   "source": [
    "exclusion_list = {} #If there are any"
   ]
  },
  {
   "cell_type": "code",
   "execution_count": 2,
   "metadata": {},
   "outputs": [
    {
     "ename": "SyntaxError",
     "evalue": "invalid syntax (Temp/ipykernel_18016/3124161295.py, line 3)",
     "output_type": "error",
     "traceback": [
      "\u001b[1;36m  File \u001b[1;32m\"C:\\Users\\User\\AppData\\Local\\Temp/ipykernel_18016/3124161295.py\"\u001b[1;36m, line \u001b[1;32m3\u001b[0m\n\u001b[1;33m    'reply_greet': Awesome! Let's begin!\",\u001b[0m\n\u001b[1;37m                          ^\u001b[0m\n\u001b[1;31mSyntaxError\u001b[0m\u001b[1;31m:\u001b[0m invalid syntax\n"
     ]
    }
   ],
   "source": [
    "responses={\n",
    "    'prompt_greet':'Hello, welcome to our site! Would you like to have a movie recommended?',\n",
    "    'reply_greet': \"Awesome! Let's begin!\",\n",
    "    'prompt_genre':'What genre of shows do you like?',\n",
    "    'prompt_shows': 'What shows have you watched recently?',\n",
    "    'prompt_actor': 'Are there any actors or actresses that you enjoy?', #Look at the actors/actresses\n",
    "    'prompt_hate': 'Any shows that you hate?',\n",
    "    'prompt_production_companies': 'Any production companies you like?',\n",
    "    'prompt_themes': 'What do you look for in a movie?', #Prompt keywords in the dataset\n",
    "    'fallback':\"I don't quite understand. Could you clarify that?\",\n",
    "}"
   ]
  },
  {
   "cell_type": "code",
   "execution_count": null,
   "metadata": {},
   "outputs": [],
   "source": [
    "\"\""
   ]
  }
 ],
 "metadata": {
  "kernelspec": {
   "display_name": "Python 3.9.4 64-bit",
   "language": "python",
   "name": "python3"
  },
  "language_info": {
   "codemirror_mode": {
    "name": "ipython",
    "version": 3
   },
   "file_extension": ".py",
   "mimetype": "text/x-python",
   "name": "python",
   "nbconvert_exporter": "python",
   "pygments_lexer": "ipython3",
   "version": "3.9.4"
  },
  "orig_nbformat": 4,
  "vscode": {
   "interpreter": {
    "hash": "cf92aa13fedf815d5c8dd192b8d835913fde3e8bc926b2a0ad6cc74ef2ba3ca2"
   }
  }
 },
 "nbformat": 4,
 "nbformat_minor": 2
}
