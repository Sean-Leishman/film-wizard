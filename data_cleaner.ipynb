{
 "cells": [
  {
   "cell_type": "code",
   "execution_count": 350,
   "id": "7a6f4a37",
   "metadata": {},
   "outputs": [],
   "source": [
    "import pandas as pd\n",
    "import numpy as np \n",
    "import os"
   ]
  },
  {
   "cell_type": "markdown",
   "metadata": {},
   "source": [
    "<h2>Load Data</h2>"
   ]
  },
  {
   "cell_type": "code",
   "execution_count": 351,
   "id": "050a7c91",
   "metadata": {},
   "outputs": [
    {
     "name": "stderr",
     "output_type": "stream",
     "text": [
      "C:\\Users\\leish\\AppData\\Local\\Temp\\ipykernel_27112\\4291322724.py:4: DtypeWarning: Columns (10) have mixed types. Specify dtype option on import or set low_memory=False.\n",
      "  movies_df = pd.read_csv(os.path.join(os.getcwd(), 'datasets/movies/movies_metadata.csv'))\n"
     ]
    }
   ],
   "source": [
    "credits_df = pd.read_csv(os.path.join(os.getcwd(), 'datasets/movies/credits.csv'))\n",
    "keywords_df = pd.read_csv(os.path.join(os.getcwd(), 'datasets/movies/keywords.csv'))\n",
    "links_df = pd.read_csv(os.path.join(os.getcwd(), 'datasets/movies/links.csv'), dtype={\"imdbId\":\"string\"})\n",
    "movies_df = pd.read_csv(os.path.join(os.getcwd(), 'datasets/movies/movies_metadata.csv'))\n",
    "ratings_df = pd.read_csv(os.path.join(os.getcwd(), 'datasets/movies/ratings.csv'))"
   ]
  },
  {
   "cell_type": "code",
   "execution_count": 352,
   "metadata": {},
   "outputs": [
    {
     "data": {
      "text/plain": [
       "(       movieId   imdbId    tmdbId\n",
       " 0            1  0114709     862.0\n",
       " 1            2  0113497    8844.0\n",
       " 2            3  0113228   15602.0\n",
       " 3            4  0114885   31357.0\n",
       " 4            5  0113041   11862.0\n",
       " ...        ...      ...       ...\n",
       " 45838   176269  6209470  439050.0\n",
       " 45839   176271  2028550  111109.0\n",
       " 45840   176273  0303758   67758.0\n",
       " 45841   176275  0008536  227506.0\n",
       " 45842   176279  6980792  461257.0\n",
       " \n",
       " [45843 rows x 3 columns],\n",
       " (45843, 3))"
      ]
     },
     "execution_count": 352,
     "metadata": {},
     "output_type": "execute_result"
    }
   ],
   "source": [
    "links_df.drop_duplicates(), links_df.shape"
   ]
  },
  {
   "cell_type": "markdown",
   "metadata": {},
   "source": [
    "<h2>Fix Type Issues</h2>"
   ]
  },
  {
   "cell_type": "code",
   "execution_count": 353,
   "id": "56eabfbe",
   "metadata": {},
   "outputs": [],
   "source": [
    "movies_df['id'] = pd.to_numeric(movies_df['id'], errors='coerce')\n",
    "movies_df = movies_df[movies_df['id'].notna()].astype({'id': int})"
   ]
  },
  {
   "cell_type": "code",
   "execution_count": 354,
   "metadata": {},
   "outputs": [
    {
     "data": {
      "text/plain": [
       "(45463, 24)"
      ]
     },
     "execution_count": 354,
     "metadata": {},
     "output_type": "execute_result"
    }
   ],
   "source": [
    "movies_df.shape"
   ]
  },
  {
   "cell_type": "markdown",
   "metadata": {},
   "source": [
    "<h2>Add Wikipedia Links to links.csv</h2>"
   ]
  },
  {
   "cell_type": "code",
   "execution_count": 355,
   "metadata": {},
   "outputs": [],
   "source": [
    "from SPARQLWrapper import SPARQLWrapper, JSON"
   ]
  },
  {
   "cell_type": "code",
   "execution_count": 356,
   "metadata": {},
   "outputs": [],
   "source": [
    "sparql = SPARQLWrapper(\"https://query.wikidata.org/sparql\")\n",
    "\n",
    "sparql.setQuery(\"\"\"SELECT ?item ?IMDb_ID ?sitelink WHERE {\n",
    "\n",
    "              {\n",
    "                {\n",
    "                ?item wdt:P31 /wdt:P279* wd:Q11424 .\n",
    "              ?item wdt:P345 ?IMDb_ID .\n",
    "              ?sitelink schema:about ?item ; schema:isPartOf <https://en.wikipedia.org/> .\n",
    "              }\n",
    "              }\n",
    "            UNION {\n",
    "              ?item wdt:P31 /wdt:P279* wd:Q1259759 .\n",
    "              ?item wdt:P345 ?IMDb_ID .\n",
    "              ?sitelink schema:about ?item ; schema:isPartOf <https://en.wikipedia.org/> .\n",
    "            }\n",
    "                  \n",
    "\n",
    "            }\"\"\")\n",
    "sparql.setReturnFormat(JSON)\n",
    "results = sparql.query().convert()\n",
    "results_df = pd.json_normalize(results['results']['bindings'])\n",
    "results_df = results_df[['IMDb_ID.value','sitelink.value']]\n",
    "results_df.rename(columns={'IMDb_ID.value':'imdbId', 'sitelink.value':\"wikipediaId\"}, inplace=True)\n",
    "results_df.drop_duplicates(inplace=True)\n"
   ]
  },
  {
   "cell_type": "code",
   "execution_count": 357,
   "metadata": {},
   "outputs": [
    {
     "data": {
      "text/html": [
       "<div>\n",
       "<style scoped>\n",
       "    .dataframe tbody tr th:only-of-type {\n",
       "        vertical-align: middle;\n",
       "    }\n",
       "\n",
       "    .dataframe tbody tr th {\n",
       "        vertical-align: top;\n",
       "    }\n",
       "\n",
       "    .dataframe thead th {\n",
       "        text-align: right;\n",
       "    }\n",
       "</style>\n",
       "<table border=\"1\" class=\"dataframe\">\n",
       "  <thead>\n",
       "    <tr style=\"text-align: right;\">\n",
       "      <th></th>\n",
       "      <th>imdbId</th>\n",
       "      <th>wikipediaId</th>\n",
       "    </tr>\n",
       "  </thead>\n",
       "  <tbody>\n",
       "    <tr>\n",
       "      <th>109274</th>\n",
       "      <td>tt5013056</td>\n",
       "      <td>https://en.wikipedia.org/wiki/Dunkirk_(2017_film)</td>\n",
       "    </tr>\n",
       "  </tbody>\n",
       "</table>\n",
       "</div>"
      ],
      "text/plain": [
       "           imdbId                                        wikipediaId\n",
       "109274  tt5013056  https://en.wikipedia.org/wiki/Dunkirk_(2017_film)"
      ]
     },
     "execution_count": 357,
     "metadata": {},
     "output_type": "execute_result"
    }
   ],
   "source": [
    "results_df.loc[results_df.imdbId == \"tt5013056\"]"
   ]
  },
  {
   "cell_type": "code",
   "execution_count": 358,
   "metadata": {},
   "outputs": [],
   "source": [
    "links_df['imdbId'] = np.where(\"tt\" in links_df['imdbId'].astype(str), links_df['imdbId'].astype(str), \"tt\"+links_df['imdbId'].astype(str))\n",
    "#links_df['movieId'] = movies_df.loc[movies_df.imdb_id == links_df.imdbId, movies_df.id]\n",
    "links_df = links_df.merge(results_df, on=\"imdbId\")\n",
    "\n",
    "links_df.rename(columns={'movieId':'id', 'imdbId':'imdb_id'},inplace=True)\n",
    "#links_df.drop_duplicates(inplace=True)"
   ]
  },
  {
   "cell_type": "markdown",
   "id": "7b871038",
   "metadata": {},
   "source": [
    "<h2>Calculate Average Rating for Movie</h2>"
   ]
  },
  {
   "cell_type": "code",
   "execution_count": 359,
   "id": "53556a2e",
   "metadata": {},
   "outputs": [],
   "source": [
    "grouped_ratings_df = ratings_df.groupby('movieId').mean()\n",
    "grouped_ratings_df.reset_index(inplace=True)\n",
    "grouped_ratings_df.rename(columns={\"movieId\":\"id\"}, inplace=True)"
   ]
  },
  {
   "cell_type": "code",
   "execution_count": 360,
   "metadata": {},
   "outputs": [
    {
     "data": {
      "text/plain": [
       "Index(['adult', 'belongs_to_collection', 'budget', 'genres', 'homepage', 'id',\n",
       "       'imdb_id', 'original_language', 'original_title', 'overview',\n",
       "       'popularity', 'poster_path', 'production_companies',\n",
       "       'production_countries', 'release_date', 'revenue', 'runtime',\n",
       "       'spoken_languages', 'status', 'tagline', 'title', 'video',\n",
       "       'vote_average', 'vote_count', 'keywords', 'cast', 'crew', 'rating',\n",
       "       'wikipediaId'],\n",
       "      dtype='object')"
      ]
     },
     "execution_count": 360,
     "metadata": {},
     "output_type": "execute_result"
    }
   ],
   "source": [
    "df.columns"
   ]
  },
  {
   "cell_type": "markdown",
   "metadata": {},
   "source": [
    "<h2>Merge Datasets to form a Master Dataset</h2>"
   ]
  },
  {
   "cell_type": "code",
   "execution_count": 361,
   "id": "3d8790e4",
   "metadata": {},
   "outputs": [
    {
     "name": "stdout",
     "output_type": "stream",
     "text": [
      "(46483, 25)\n",
      "(46629, 27)\n",
      "(46629, 28)\n",
      "(46634, 29)\n"
     ]
    }
   ],
   "source": [
    "df = movies_df.merge(keywords_df, how='left', on='id')\n",
    "print(df.shape)\n",
    "df = df.merge(credits_df[['cast','crew','id']], how='left', on='id')\n",
    "print(df.shape)\n",
    "df = df.merge(grouped_ratings_df[['id','rating']], how='left', on='id')\n",
    "print(df.shape)\n",
    "df = df.merge(links_df[['imdb_id','wikipediaId']], how='left', on='imdb_id')\n",
    "print(df.shape)"
   ]
  },
  {
   "cell_type": "code",
   "execution_count": 362,
   "metadata": {},
   "outputs": [
    {
     "data": {
      "text/html": [
       "<div>\n",
       "<style scoped>\n",
       "    .dataframe tbody tr th:only-of-type {\n",
       "        vertical-align: middle;\n",
       "    }\n",
       "\n",
       "    .dataframe tbody tr th {\n",
       "        vertical-align: top;\n",
       "    }\n",
       "\n",
       "    .dataframe thead th {\n",
       "        text-align: right;\n",
       "    }\n",
       "</style>\n",
       "<table border=\"1\" class=\"dataframe\">\n",
       "  <thead>\n",
       "    <tr style=\"text-align: right;\">\n",
       "      <th></th>\n",
       "      <th>adult</th>\n",
       "      <th>belongs_to_collection</th>\n",
       "      <th>budget</th>\n",
       "      <th>genres</th>\n",
       "      <th>homepage</th>\n",
       "      <th>id</th>\n",
       "      <th>imdb_id</th>\n",
       "      <th>original_language</th>\n",
       "      <th>original_title</th>\n",
       "      <th>overview</th>\n",
       "      <th>...</th>\n",
       "      <th>tagline</th>\n",
       "      <th>title</th>\n",
       "      <th>video</th>\n",
       "      <th>vote_average</th>\n",
       "      <th>vote_count</th>\n",
       "      <th>keywords</th>\n",
       "      <th>cast</th>\n",
       "      <th>crew</th>\n",
       "      <th>rating</th>\n",
       "      <th>wikipediaId</th>\n",
       "    </tr>\n",
       "  </thead>\n",
       "  <tbody>\n",
       "    <tr>\n",
       "      <th>22872</th>\n",
       "      <td>False</td>\n",
       "      <td>{'id': 258664, 'name': 'Nymphomaniac Collectio...</td>\n",
       "      <td>0</td>\n",
       "      <td>[{'id': 18, 'name': 'Drama'}, {'id': 9648, 'na...</td>\n",
       "      <td>http://www.magpictures.com/nymphomaniac/</td>\n",
       "      <td>249397</td>\n",
       "      <td>tt2382009</td>\n",
       "      <td>da</td>\n",
       "      <td>Nymphomaniac: Vol. II</td>\n",
       "      <td>The continuation of Joe's sexually dictated li...</td>\n",
       "      <td>...</td>\n",
       "      <td>Forget About Love</td>\n",
       "      <td>Nymphomaniac: Vol. II</td>\n",
       "      <td>False</td>\n",
       "      <td>6.6</td>\n",
       "      <td>820.0</td>\n",
       "      <td>[{'id': 572, 'name': 'sex'}, {'id': 910, 'name...</td>\n",
       "      <td>[{'cast_id': 1, 'character': 'Joe', 'credit_id...</td>\n",
       "      <td>[{'credit_id': '52fe4f43c3a36847f82c9289', 'de...</td>\n",
       "      <td>NaN</td>\n",
       "      <td>NaN</td>\n",
       "    </tr>\n",
       "  </tbody>\n",
       "</table>\n",
       "<p>1 rows × 29 columns</p>\n",
       "</div>"
      ],
      "text/plain": [
       "       adult                              belongs_to_collection budget  \\\n",
       "22872  False  {'id': 258664, 'name': 'Nymphomaniac Collectio...      0   \n",
       "\n",
       "                                                  genres  \\\n",
       "22872  [{'id': 18, 'name': 'Drama'}, {'id': 9648, 'na...   \n",
       "\n",
       "                                       homepage      id    imdb_id  \\\n",
       "22872  http://www.magpictures.com/nymphomaniac/  249397  tt2382009   \n",
       "\n",
       "      original_language         original_title  \\\n",
       "22872                da  Nymphomaniac: Vol. II   \n",
       "\n",
       "                                                overview  ...  \\\n",
       "22872  The continuation of Joe's sexually dictated li...  ...   \n",
       "\n",
       "                 tagline                  title  video vote_average  \\\n",
       "22872  Forget About Love  Nymphomaniac: Vol. II  False          6.6   \n",
       "\n",
       "      vote_count                                           keywords  \\\n",
       "22872      820.0  [{'id': 572, 'name': 'sex'}, {'id': 910, 'name...   \n",
       "\n",
       "                                                    cast  \\\n",
       "22872  [{'cast_id': 1, 'character': 'Joe', 'credit_id...   \n",
       "\n",
       "                                                    crew rating wikipediaId  \n",
       "22872  [{'credit_id': '52fe4f43c3a36847f82c9289', 'de...    NaN         NaN  \n",
       "\n",
       "[1 rows x 29 columns]"
      ]
     },
     "execution_count": 362,
     "metadata": {},
     "output_type": "execute_result"
    }
   ],
   "source": [
    "df[df['wikipediaId'].isna()].loc[df.vote_count > 500]"
   ]
  },
  {
   "cell_type": "markdown",
   "metadata": {},
   "source": [
    "<h2>Expands cells of master dataframe into smaller dataframes</h2>"
   ]
  },
  {
   "cell_type": "code",
   "execution_count": 363,
   "id": "f9100011",
   "metadata": {},
   "outputs": [],
   "source": [
    "# Creates seperate dataframe that contains all information for a specific column of that dataframe\n",
    "# The column converts the JSON or array of JSONs of each row into a row to be inserted into the DataFrame\n",
    "def create_info_dataframe(df,column_header):\n",
    "    if \"[\" in df[df[column_header].notna()][column_header].iloc[0]:  \n",
    "        return pd.DataFrame([x for sublist in df[column_header].map(lambda x: eval(x) if isinstance(x,str) else \"\").to_numpy().flatten() for x in sublist]).drop_duplicates()\n",
    "    else:\n",
    "        return pd.DataFrame([x for x in df[column_header].map(lambda x: eval(x) if isinstance(x, str) and isinstance(eval(x), dict) else eval(\n",
    "            \"{'id': 0,'name':'None','poster_path':'None', 'backdrop_path':'None'}\"))])"
   ]
  },
  {
   "cell_type": "markdown",
   "metadata": {},
   "source": [
    "<h2>Simplifies complicated cells into an array of IDs</h2>"
   ]
  },
  {
   "cell_type": "code",
   "execution_count": 364,
   "id": "7fcce6cb",
   "metadata": {},
   "outputs": [],
   "source": [
    "# Extracts the id of each JSON in each cell and creates an array of these ids to be inserted into the original DataFrame df. \n",
    "# The Id of the JSON can reference the additional DataFramescd \n",
    "def reduce_json_to_id(df, column_header):\n",
    "    if \"[\" in df[df[column_header].notna()][column_header].iloc[0]: \n",
    "        return df[column_header].map(lambda x: [y['id'] for y in eval(x)] if isinstance(x, str) else None)\n",
    "    else:\n",
    "        return df[column_header].map(lambda x: eval(x)['id'] if isinstance(x, str) and isinstance(eval(x), dict) else None)"
   ]
  },
  {
   "cell_type": "code",
   "execution_count": 365,
   "id": "3663e1ed",
   "metadata": {},
   "outputs": [],
   "source": [
    "genres_df = create_info_dataframe(df, 'genres')\n",
    "keywords2_df = create_info_dataframe(df, 'keywords')\n",
    "cast_df = create_info_dataframe(df, 'cast')\n",
    "crew_df = create_info_dataframe(df, 'crew')\n",
    "collection_df = create_info_dataframe(df, 'belongs_to_collection')\n",
    "production_company_df = create_info_dataframe(df, 'production_companies')"
   ]
  },
  {
   "cell_type": "code",
   "execution_count": 366,
   "id": "886dcc70",
   "metadata": {},
   "outputs": [],
   "source": [
    "df['genres'] = reduce_json_to_id(df, 'genres')\n",
    "df['keywords'] = reduce_json_to_id(df, 'keywords')\n",
    "df['cast'] = reduce_json_to_id(df, 'cast')\n",
    "df['crew'] = reduce_json_to_id(df, 'crew')\n",
    "df['belongs_to_collection'] = reduce_json_to_id(df, 'belongs_to_collection')\n",
    "df['production_companies'] = reduce_json_to_id(df, 'production_companies')"
   ]
  },
  {
   "cell_type": "code",
   "execution_count": 367,
   "metadata": {},
   "outputs": [],
   "source": [
    "df = df[~df['wikipediaId'].isna()]"
   ]
  },
  {
   "cell_type": "code",
   "execution_count": 368,
   "metadata": {},
   "outputs": [],
   "source": [
    "df.to_csv(os.path.join(os.getcwd(), 'datasets/movies/master.csv'))\n",
    "genres_df.to_csv(os.path.join(os.getcwd(), 'datasets/movies/genres.csv'))\n",
    "cast_df.to_csv(os.path.join(os.getcwd(), 'datasets/movies/cast.csv'))\n",
    "crew_df.to_csv(os.path.join(os.getcwd(), 'datasets/movies/crew.csv'))\n",
    "collection_df.to_csv(os.path.join(os.getcwd(), 'datasets/movies/collections.csv'))\n",
    "production_company_df.to_csv(os.path.join(os.getcwd(), 'datasets/movies/production_companies.csv'))\n",
    "keywords2_df.to_csv(os.path.join(os.getcwd(), 'datasets/movies/keywords2.csv'))"
   ]
  },
  {
   "cell_type": "code",
   "execution_count": 369,
   "metadata": {},
   "outputs": [
    {
     "data": {
      "text/plain": [
       "Index(['adult', 'belongs_to_collection', 'budget', 'genres', 'homepage', 'id',\n",
       "       'imdb_id', 'original_language', 'original_title', 'overview',\n",
       "       'popularity', 'poster_path', 'production_companies',\n",
       "       'production_countries', 'release_date', 'revenue', 'runtime',\n",
       "       'spoken_languages', 'status', 'tagline', 'title', 'video',\n",
       "       'vote_average', 'vote_count', 'keywords', 'cast', 'crew', 'rating',\n",
       "       'wikipediaId'],\n",
       "      dtype='object')"
      ]
     },
     "execution_count": 369,
     "metadata": {},
     "output_type": "execute_result"
    }
   ],
   "source": [
    "df.columns"
   ]
  },
  {
   "cell_type": "code",
   "execution_count": null,
   "metadata": {},
   "outputs": [],
   "source": []
  }
 ],
 "metadata": {
  "interpreter": {
   "hash": "47ae4a08faa879d2cd72b44ae9e79460bb1caead6fa5206821005b13a1bbf4d2"
  },
  "kernelspec": {
   "display_name": "Python 3.10.4 64-bit ('tf3': conda)",
   "name": "python3"
  },
  "language_info": {
   "codemirror_mode": {
    "name": "ipython",
    "version": 3
   },
   "file_extension": ".py",
   "mimetype": "text/x-python",
   "name": "python",
   "nbconvert_exporter": "python",
   "pygments_lexer": "ipython3",
   "version": "3.10.4"
  }
 },
 "nbformat": 4,
 "nbformat_minor": 5
}
