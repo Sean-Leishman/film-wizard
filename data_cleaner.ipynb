{
 "cells": [
  {
   "cell_type": "code",
   "execution_count": 4,
   "id": "7a6f4a37",
   "metadata": {},
   "outputs": [],
   "source": [
    "import pandas as pd\n",
    "import numpy as np \n",
    "import os"
   ]
  },
  {
   "cell_type": "code",
   "execution_count": 6,
   "id": "050a7c91",
   "metadata": {},
   "outputs": [
    {
     "name": "stderr",
     "output_type": "stream",
     "text": [
      "C:\\Users\\leish\\AppData\\Local\\Temp\\ipykernel_29272\\3811994195.py:4: DtypeWarning: Columns (10) have mixed types. Specify dtype option on import or set low_memory=False.\n",
      "  movies_df = pd.read_csv(os.path.join(os.getcwd(), 'datasets/movies/movies_metadata.csv'))\n"
     ]
    }
   ],
   "source": [
    "credits_df = pd.read_csv(os.path.join(os.getcwd(), 'datasets/movies/credits.csv'))\n",
    "keywords_df = pd.read_csv(os.path.join(os.getcwd(), 'datasets/movies/keywords.csv'))\n",
    "links_df = pd.read_csv(os.path.join(os.getcwd(), 'datasets/movies/links.csv'))\n",
    "movies_df = pd.read_csv(os.path.join(os.getcwd(), 'datasets/movies/movies_metadata.csv'))\n",
    "ratings_df = pd.read_csv(os.path.join(os.getcwd(), 'datasets/movies/ratings.csv'))"
   ]
  },
  {
   "cell_type": "code",
   "execution_count": 7,
   "id": "56eabfbe",
   "metadata": {},
   "outputs": [],
   "source": [
    "movies_df['id'] = pd.to_numeric(movies_df['id'], errors='coerce')\n",
    "movies_df = movies_df[movies_df['id'].notna()].astype({'id': int})"
   ]
  },
  {
   "cell_type": "code",
   "execution_count": 8,
   "id": "7b871038",
   "metadata": {},
   "outputs": [],
   "source": [
    "links_df.rename(columns={'movieId':'id'},inplace=True)"
   ]
  },
  {
   "cell_type": "code",
   "execution_count": 9,
   "id": "53556a2e",
   "metadata": {},
   "outputs": [],
   "source": [
    "grouped_ratings_df = ratings_df.groupby('movieId').mean()\n",
    "grouped_ratings_df.reset_index(inplace=True)\n",
    "grouped_ratings_df.rename(columns={\"movieId\":\"id\"}, inplace=True)"
   ]
  },
  {
   "cell_type": "code",
   "execution_count": 10,
   "id": "3d8790e4",
   "metadata": {},
   "outputs": [],
   "source": [
    "df = movies_df.merge(keywords_df, on='id')\n",
    "df = df.merge(credits_df[['cast','crew','id']], on='id')\n",
    "df = df.merge(grouped_ratings_df[['id','rating']], on='id')\n",
    "df = df.merge(links_df, on='id')"
   ]
  },
  {
   "cell_type": "code",
   "execution_count": 11,
   "id": "f9100011",
   "metadata": {},
   "outputs": [],
   "source": [
    "# Creates seperate dataframe that contains all information for a specific column of that dataframe\n",
    "# The column converts the JSON or array of JSONs of each row into a row to be inserted into the DataFrame\n",
    "def create_info_dataframe(df,column_header):\n",
    "    if \"[\" in df[df[column_header].notna()][column_header].iloc[0]:  \n",
    "        return pd.DataFrame([x for sublist in df[column_header].map(lambda x: eval(x)).to_numpy().flatten() for x in sublist]).drop_duplicates()\n",
    "    else:\n",
    "        return pd.DataFrame([x for x in df[column_header].map(lambda x: eval(x) if isinstance(x, str) and isinstance(eval(x), dict) else eval(\n",
    "            \"{'id': 0,'name':'None','poster_path':'None', 'backdrop_path':'None'}\"))])"
   ]
  },
  {
   "cell_type": "code",
   "execution_count": 12,
   "id": "7fcce6cb",
   "metadata": {},
   "outputs": [],
   "source": [
    "# Extracts the id of each JSON in each cell and creates an array of these ids to be inserted into the original DataFrame df. \n",
    "# The Id of the JSON can reference the additional DataFramescd \n",
    "def reduce_json_to_id(df, column_header):\n",
    "    if \"[\" in df[df[column_header].notna()][column_header].iloc[0]: \n",
    "        return df[column_header].map(lambda x: [y['id'] for y in eval(x)] if isinstance(x, str) else None)\n",
    "    else:\n",
    "        return df[column_header].map(lambda x: eval(x)['id'] if isinstance(x, str) and isinstance(eval(x), dict) else None)"
   ]
  },
  {
   "cell_type": "code",
   "execution_count": 13,
   "id": "3663e1ed",
   "metadata": {},
   "outputs": [],
   "source": [
    "genres_df = create_info_dataframe(df, 'genres')\n",
    "keywords2_df = create_info_dataframe(df, 'keywords')\n",
    "cast_df = create_info_dataframe(df, 'cast')\n",
    "crew_df = create_info_dataframe(df, 'crew')\n",
    "collection_df = create_info_dataframe(df, 'belongs_to_collection')\n",
    "production_company_df = create_info_dataframe(df, 'production_companies')"
   ]
  },
  {
   "cell_type": "code",
   "execution_count": 14,
   "id": "886dcc70",
   "metadata": {},
   "outputs": [],
   "source": [
    "df['genres'] = reduce_json_to_id(df, 'genres')\n",
    "df['keywords'] = reduce_json_to_id(df, 'keywords')\n",
    "df['cast'] = reduce_json_to_id(df, 'cast')\n",
    "df['crew'] = reduce_json_to_id(df, 'crew')\n",
    "df['belongs_to_collection'] = reduce_json_to_id(df, 'belongs_to_collection')\n",
    "df['production_companies'] = reduce_json_to_id(df, 'production_companies')"
   ]
  },
  {
   "cell_type": "code",
   "execution_count": 15,
   "id": "75994857",
   "metadata": {},
   "outputs": [],
   "source": [
    "df.to_csv(os.path.join(os.getcwd(), 'datasets/movies/master.csv'))\n",
    "genres_df.to_csv(os.path.join(os.getcwd(), 'datasets/movies/genres.csv'))\n",
    "cast_df.to_csv(os.path.join(os.getcwd(), 'datasets/movies/cast.csv'))\n",
    "crew_df.to_csv(os.path.join(os.getcwd(), 'datasets/movies/crew.csv'))\n",
    "collection_df.to_csv(os.path.join(os.getcwd(), 'datasets/movies/collection.csv'))\n",
    "production_company_df.to_csv(os.path.join(os.getcwd(), 'datasets/movies/production_companies.csv'))"
   ]
  },
  {
   "cell_type": "code",
   "execution_count": null,
   "id": "8d689817",
   "metadata": {},
   "outputs": [],
   "source": []
  }
 ],
 "metadata": {
  "kernelspec": {
   "display_name": "Python [conda env:tf3]",
   "language": "python",
   "name": "conda-env-tf3-py"
  },
  "language_info": {
   "codemirror_mode": {
    "name": "ipython",
    "version": 3
   },
   "file_extension": ".py",
   "mimetype": "text/x-python",
   "name": "python",
   "nbconvert_exporter": "python",
   "pygments_lexer": "ipython3",
   "version": "3.10.4"
  }
 },
 "nbformat": 4,
 "nbformat_minor": 5
}
